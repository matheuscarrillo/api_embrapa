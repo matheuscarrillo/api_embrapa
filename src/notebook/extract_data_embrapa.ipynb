{
 "cells": [
  {
   "cell_type": "code",
   "execution_count": 1,
   "id": "cfab5638-2a52-4275-ac13-a8aecca06602",
   "metadata": {},
   "outputs": [],
   "source": [
    "import os\n",
    "import time\n",
    "import numpy as np\n",
    "from selenium import webdriver\n",
    "from selenium.webdriver.chrome.service import Service\n",
    "from selenium.webdriver.common.by import By\n",
    "from selenium.webdriver.chrome.options import Options\n",
    "from tqdm import tqdm"
   ]
  },
  {
   "cell_type": "code",
   "execution_count": null,
   "id": "eb885fec-da35-4b32-ada9-885b08890e04",
   "metadata": {},
   "outputs": [],
   "source": [
    "#definindo dicionários das páginas\n",
    "dict_options = {\n",
    "    'opt_02':'Producao',\n",
    "    'opt_03':'Processamento',\n",
    "    'opt_04':'Comercialização',\n",
    "    'opt_05':'Importação',\n",
    "    'opt_06':'Exportação'\n",
    "}\n",
    "dict_suboptions = {\n",
    "    'opt_02':[],\n",
    "    'opt_03':['subopt_01', 'subopt_02', 'subopt_03', 'subopt_04'],\n",
    "    'opt_04':[],\n",
    "    'opt_05':['subopt_01', 'subopt_02', 'subopt_03', 'subopt_04', 'subopt_05'],\n",
    "    'opt_06':['subopt_01', 'subopt_02', 'subopt_03', 'subopt_04']\n",
    "}\n",
    "dict_namecsv = {\n",
    "    'opt_02':['Producao.csv'],\n",
    "    'opt_03':['ProcessaViniferas.csv', 'ProcessaAmericanas.csv', 'ProcessaMesa.csv', 'ProcessaSemclass.csv'],\n",
    "    'opt_04':['Comercio.csv'],\n",
    "    'opt_05':['ImpVinhos.csv', 'ImpEspumantes.csv', 'ImpFrescas.csv', 'ImpPassas.csv', 'ImpSuco.csv'],\n",
    "    'opt_06':['ExpVinho.csv', 'ExpEspumantes.csv', 'ExpUva.csv', 'ExpSuco.csv']\n",
    "}"
   ]
  },
  {
   "cell_type": "code",
   "execution_count": 2,
   "id": "cdf3f53b-a6b1-49de-88c8-df7e904e9af8",
   "metadata": {},
   "outputs": [],
   "source": [
    "# Configuração do diretório de download e renomeação\n",
    "download_dir = r\"C:\\Users\\mathe\\OneDrive\\Área de Trabalho\\POS_TECH\\first_app\\cursofiap\\download\"  # Altere para o seu diretório desejado"
   ]
  },
  {
   "cell_type": "code",
   "execution_count": 3,
   "id": "9a5632e7-f7bf-4c44-8624-f7ef242c287e",
   "metadata": {},
   "outputs": [],
   "source": [
    "# Função para configurar o WebDriver com um diretório de download específico\n",
    "def configurar_driver(download_dir):\n",
    "    chrome_options = Options()\n",
    "    chrome_options.add_experimental_option(\"prefs\", {\n",
    "        \"download.default_directory\": download_dir,\n",
    "        \"download.prompt_for_download\": False,\n",
    "        \"download.directory_upgrade\": True,\n",
    "        \"safebrowsing.enabled\": True\n",
    "    })\n",
    "    return webdriver.Chrome(options=chrome_options)"
   ]
  },
  {
   "cell_type": "code",
   "execution_count": 7,
   "id": "1c72a7dc-220b-43fa-84b1-834801809555",
   "metadata": {},
   "outputs": [],
   "source": [
    "# Inicializando o WebDriver\n",
    "driver = configurar_driver(download_dir)"
   ]
  },
  {
   "cell_type": "code",
   "execution_count": null,
   "id": "13fedb35-9e04-4880-8682-92684d702400",
   "metadata": {},
   "outputs": [],
   "source": [
    "np.absolute()"
   ]
  },
  {
   "cell_type": "code",
   "execution_count": 11,
   "id": "ce4a0e22-c76c-401b-b7b6-019db9a2eb0c",
   "metadata": {},
   "outputs": [],
   "source": [
    "def download_rename_file(url_pagina, option, descricao, suboption, namecsv):\n",
    "    \"\"\"\n",
    "    download_rename_file(url_pagina, option, descricao, suboption, namecsv)\n",
    "    \n",
    "    A função download_rename_file faz o download do arquivo baseando na url, parâmetros da url (option, descricao, suboption) \n",
    "    e renomeia o arquivo com o nome definido pela variável namecsv, para um nome baseado nos parâmetros da URL.\n",
    "    \n",
    "    Parameters\n",
    "    ----------\n",
    "    url_pagina: str \n",
    "        URL da página que deseja realizar o acesso.\n",
    "    option: str \n",
    "        Parâmetro da URL que define a aba acessada.\n",
    "    descricao: str \n",
    "        Descrição do parâmetro ```option```\n",
    "    suboption: str \n",
    "        Parâmetro da URL que define o subitem da aba acessada.\n",
    "    namecsv: str \n",
    "        Nome do arquivo CSV por padrão, definido pelo site da extração.\n",
    "\n",
    "    Returns\n",
    "    -------\n",
    "    A função não retorna nenhum objeto, apenas executa as ações.\n",
    "    \"\"\"\n",
    "    \n",
    "    arquivo = namecsv\n",
    "    url_download = f\"http://vitibrasil.cnpuv.embrapa.br/download/{namecsv}\"\n",
    "\n",
    "    # Definindo nome do arquivo\n",
    "    if suboption!='':\n",
    "        novo_nome = f\"dados_{option}_{descricao}_{suboption}.csv\"\n",
    "    else:\n",
    "        novo_nome = f\"dados_{option}_{descricao}.csv\"\n",
    "    \n",
    "    # Acessar o URL\n",
    "    driver.get(url_pagina)\n",
    "    \n",
    "    # Aguarda carregar a pagina\n",
    "    time.sleep(0.8)  # Ajuste o tempo conforme necessário\n",
    "    \n",
    "    driver.get(url_download)\n",
    "    \n",
    "    # espera arquivo baixar\n",
    "    contador = 0\n",
    "    while arquivo not in os.listdir(download_dir) or contador<10:\n",
    "        time.sleep(1)\n",
    "        contador+=1\n",
    "    time.sleep(2)   \n",
    "\n",
    "    print('   Download realizado!')\n",
    "    \n",
    "    # Aguarda downlod\n",
    "    if arquivo in os.listdir(download_dir):\n",
    "        # Renomear o arquivo baixado\n",
    "        caminho_antigo = os.path.join(download_dir, arquivo)\n",
    "        caminho_novo = os.path.join(download_dir, novo_nome)\n",
    "        os.rename(caminho_antigo, caminho_novo)\n",
    "        print(f\"   Arquivo renomeado para: {novo_nome}\")"
   ]
  },
  {
   "cell_type": "code",
   "execution_count": 9,
   "id": "3bd25c9b-c408-434f-a9a4-607c7960547f",
   "metadata": {},
   "outputs": [
    {
     "name": "stderr",
     "output_type": "stream",
     "text": [
      "  0%|                                                                                            | 0/5 [00:00<?, ?it/s]"
     ]
    },
    {
     "name": "stdout",
     "output_type": "stream",
     "text": [
      "Iniciando extracao dos dados de: Producao\n",
      "  Extraindo dados...\n"
     ]
    },
    {
     "name": "stderr",
     "output_type": "stream",
     "text": [
      " 20%|████████████████▊                                                                   | 1/5 [00:13<00:55, 13.81s/it]"
     ]
    },
    {
     "name": "stdout",
     "output_type": "stream",
     "text": [
      "   Download realizado!\n",
      "   Arquivo renomeado para: dados_opt_02_Producao.csv\n",
      "Iniciando extracao dos dados de: Processamento\n",
      "  Extraindo dados da opcao: subopt_01\n",
      "   Download realizado!\n",
      "   Arquivo renomeado para: dados_opt_03_Processamento_subopt_01.csv\n",
      "  Extraindo dados da opcao: subopt_02\n",
      "   Download realizado!\n",
      "   Arquivo renomeado para: dados_opt_03_Processamento_subopt_02.csv\n",
      "  Extraindo dados da opcao: subopt_03\n",
      "   Download realizado!\n",
      "   Arquivo renomeado para: dados_opt_03_Processamento_subopt_03.csv\n",
      "  Extraindo dados da opcao: subopt_04\n"
     ]
    },
    {
     "name": "stderr",
     "output_type": "stream",
     "text": [
      " 40%|█████████████████████████████████▌                                                  | 2/5 [01:10<01:56, 38.82s/it]"
     ]
    },
    {
     "name": "stdout",
     "output_type": "stream",
     "text": [
      "   Download realizado!\n",
      "   Arquivo renomeado para: dados_opt_03_Processamento_subopt_04.csv\n",
      "Iniciando extracao dos dados de: Comercialização\n",
      "  Extraindo dados...\n"
     ]
    },
    {
     "name": "stderr",
     "output_type": "stream",
     "text": [
      " 60%|██████████████████████████████████████████████████▍                                 | 3/5 [01:23<00:54, 27.31s/it]"
     ]
    },
    {
     "name": "stdout",
     "output_type": "stream",
     "text": [
      "   Download realizado!\n",
      "   Arquivo renomeado para: dados_opt_04_Comercialização.csv\n",
      "Iniciando extracao dos dados de: Importação\n",
      "  Extraindo dados da opcao: subopt_01\n",
      "   Download realizado!\n",
      "   Arquivo renomeado para: dados_opt_05_Importação_subopt_01.csv\n",
      "  Extraindo dados da opcao: subopt_02\n",
      "   Download realizado!\n",
      "   Arquivo renomeado para: dados_opt_05_Importação_subopt_02.csv\n",
      "  Extraindo dados da opcao: subopt_03\n",
      "   Download realizado!\n",
      "   Arquivo renomeado para: dados_opt_05_Importação_subopt_03.csv\n",
      "  Extraindo dados da opcao: subopt_04\n",
      "   Download realizado!\n",
      "   Arquivo renomeado para: dados_opt_05_Importação_subopt_04.csv\n",
      "  Extraindo dados da opcao: subopt_05\n"
     ]
    },
    {
     "name": "stderr",
     "output_type": "stream",
     "text": [
      " 80%|███████████████████████████████████████████████████████████████████▏                | 4/5 [02:31<00:43, 43.38s/it]"
     ]
    },
    {
     "name": "stdout",
     "output_type": "stream",
     "text": [
      "   Download realizado!\n",
      "   Arquivo renomeado para: dados_opt_05_Importação_subopt_05.csv\n",
      "Iniciando extracao dos dados de: Exportação\n",
      "  Extraindo dados da opcao: subopt_01\n",
      "   Download realizado!\n",
      "   Arquivo renomeado para: dados_opt_06_Exportação_subopt_01.csv\n",
      "  Extraindo dados da opcao: subopt_02\n",
      "   Download realizado!\n",
      "   Arquivo renomeado para: dados_opt_06_Exportação_subopt_02.csv\n",
      "  Extraindo dados da opcao: subopt_03\n",
      "   Download realizado!\n",
      "   Arquivo renomeado para: dados_opt_06_Exportação_subopt_03.csv\n",
      "  Extraindo dados da opcao: subopt_04\n"
     ]
    },
    {
     "name": "stderr",
     "output_type": "stream",
     "text": [
      "100%|████████████████████████████████████████████████████████████████████████████████████| 5/5 [03:26<00:00, 41.24s/it]"
     ]
    },
    {
     "name": "stdout",
     "output_type": "stream",
     "text": [
      "   Download realizado!\n",
      "   Arquivo renomeado para: dados_opt_06_Exportação_subopt_04.csv\n"
     ]
    },
    {
     "name": "stderr",
     "output_type": "stream",
     "text": [
      "\n"
     ]
    }
   ],
   "source": [
    "for option, descricao in tqdm(dict_options.items()):\n",
    "    print(f'Iniciando extracao dos dados de: {descricao}')\n",
    "    list_suboptions = dict_suboptions.get(option)\n",
    "    list_namecsv = dict_namecsv.get(option)\n",
    "    \n",
    "    # Define a URL para download\n",
    "    if list_suboptions !=[]:\n",
    "        for i in range(0, len(list_suboptions)):\n",
    "            suboption = list_suboptions[i]\n",
    "            namecsv = list_namecsv[i]\n",
    "            print(f'  Extraindo dados da opcao: {suboption}')\n",
    "            url_pagina = f\"http://vitibrasil.cnpuv.embrapa.br/index.php?opcao={option}&subopcao={suboption}\"\n",
    "            # Chama a função para fazer o download do arquivo\n",
    "            download_rename_file(url_pagina, option, descricao, suboption, namecsv)\n",
    "    else:\n",
    "        print(f'  Extraindo dados...')\n",
    "        namecsv = list_namecsv[0]\n",
    "        suboption = ''\n",
    "        url_pagina = f\"http://vitibrasil.cnpuv.embrapa.br/index.php?opcao={option}\"\n",
    "        download_rename_file(url_pagina, option, descricao, suboption, namecsv)"
   ]
  },
  {
   "cell_type": "code",
   "execution_count": 10,
   "id": "001c0c6d-e6bf-49a2-aebb-6d51b3269519",
   "metadata": {},
   "outputs": [],
   "source": [
    "# Encerra o google Chrome\n",
    "driver.quit()"
   ]
  }
 ],
 "metadata": {
  "kernelspec": {
   "display_name": "Python 3 (ipykernel)",
   "language": "python",
   "name": "python3"
  },
  "language_info": {
   "codemirror_mode": {
    "name": "ipython",
    "version": 3
   },
   "file_extension": ".py",
   "mimetype": "text/x-python",
   "name": "python",
   "nbconvert_exporter": "python",
   "pygments_lexer": "ipython3",
   "version": "3.12.6"
  }
 },
 "nbformat": 4,
 "nbformat_minor": 5
}
